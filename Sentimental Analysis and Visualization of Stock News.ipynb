{
 "cells": [
  {
   "cell_type": "markdown",
   "metadata": {},
   "source": [
    "# Sentimental Analysis for stock news of Amazon, Google and Facebook"
   ]
  },
  {
   "cell_type": "code",
   "execution_count": 61,
   "metadata": {},
   "outputs": [],
   "source": [
    "from urllib.request import urlopen,Request\n",
    "from bs4 import BeautifulSoup\n",
    "from nltk.sentiment.vader import SentimentIntensityAnalyzer\n",
    "import pandas as pd\n",
    "import matplotlib.pyplot as plt"
   ]
  },
  {
   "cell_type": "markdown",
   "metadata": {},
   "source": [
    "### Using url of Financial Visualization (FinViz)"
   ]
  },
  {
   "cell_type": "code",
   "execution_count": 62,
   "metadata": {},
   "outputs": [],
   "source": [
    "finviz_url=\"https://finviz.com/quote.ashx?t=\"\n",
    "tickers=['AMZN','GOOG','FB']"
   ]
  },
  {
   "cell_type": "code",
   "execution_count": 63,
   "metadata": {},
   "outputs": [],
   "source": [
    "news_tables={}\n",
    "for ticker in tickers:\n",
    "    url=finviz_url+ticker\n",
    "    \n",
    "    req=Request(url=url,headers={'user-agent':'my-app'})\n",
    "    response=urlopen(req)\n",
    "    #print(response)\n",
    "    \n",
    "    html=BeautifulSoup(response,'html')#html parser\n",
    "    news_table=html.find(id='news-table')\n",
    "    news_tables[ticker]=news_table\n",
    "    #print(html)\n",
    "    #break\n",
    "    "
   ]
  },
  {
   "cell_type": "code",
   "execution_count": 64,
   "metadata": {},
   "outputs": [
    {
     "name": "stdout",
     "output_type": "stream",
     "text": [
      "Jan-18-21 12:10PM   Why Amazon (AMZN) is Poised to Beat Earnings Estimates Again\n",
      "11:50AM   Parler: How the social media site banned by Apple and Google came back online\n",
      "10:01AM   10 best tablets for Zoom, gaming and films\n",
      "09:13AM   Amazon-Backed Deliveroo Is Now Worth $7 Billion. An IPO Is on the Menu.\n",
      "07:00AM   The pros and cons of putting your small business on Amazon\n",
      "03:59AM   Amazon to open two new hubs in Italy this year\n",
      "Jan-17-21 01:00PM   Amazon faces backlash from Indian ruling party lawmakers over web series 'Tandav'\n",
      "06:41AM   15 Biggest Hosting Companies in the World\n",
      "Jan-16-21 02:31PM   Billionaire Louis Bacon Shuns Bitcoin, Returns 70% By Betting On These Stocks\n",
      "01:21PM   Biden eyes ex-Obama staff to tackle Big Tech and other antitrust issues\n",
      "08:16AM   Billionaire-Backed Game Startup Kicks off Indias Tech IPO Rush\n",
      "08:00AM   How Elon Musk and Jeff Bezos can help save our democracy\n",
      "Jan-15-21 11:30PM   How Thanksgiving and Black Friday Affect Stocks\n",
      "08:19PM   An Unusually High Score Takes Barrons 2020 Quiz\n",
      "06:01PM   Amazon Workers to Hold Mail Union Vote Starting in February\n",
      "05:00PM   Is Kroger Stock A Buy Right Now? Here's What Earnings, Charts Show\n",
      "04:22PM   Covid-19 is powering the fastest growing segment of the US jobs market\n",
      "02:53PM   6,000 Amazon Employees in Alabama to Vote on Joining Union\n",
      "01:45PM   Why one of Walmart's most powerful executives is leaving to transform the future of cities\n",
      "01:45PM   China Is a Draw for Investors. How Matthews Asia Fund Managers Balance Risks With Opportunity.\n",
      "12:49PM   Netflix to release new movies every week in 2021\n",
      "12:43PM   10 best tablets that are perfect for drawing, gaming and note taking\n",
      "11:40AM   Walmart Stock Slips as E-Commerce Chief Heads for the Door\n",
      "11:16AM   Apple CEO Tim Cook Defends Parler App Suspension: We Dont Consider That Free Speech\n",
      "09:51AM   Plug Power a Leading Play in Fuel Cells, But Case for Growth is Tricky\n",
      "09:47AM   Retail stocks take a hit after disappointing data, as COVID-19 even weighed on online sellers\n",
      "09:32AM   Amazon Web Services opens first office in Greece\n",
      "09:28AM   Sky customers complain they are unable to access Amazon properly\n",
      "09:12AM   Joe Biden's $1.9 trillion stimulus plan could wreck Wall Street's favorite money-making trade\n",
      "08:00AM   Amazon Will Let Companies Build Voice Assistants on Alexa\n",
      "06:00AM   Biden is the right man to address inequality: Democratic megadonor\n",
      "05:00AM   Amazon Keeps Buying Pricey Jets After Promising a Drone Fleet\n",
      "Jan-14-21 09:08PM   Amazon faces class-action lawsuit over eBook pricing\n",
      "05:48PM   Dow Jones Futures: $1.9 Trillion Biden Stimulus Plan Unveiled; K-Shaped Stock Market Rally Yields Five Breakouts\n",
      "05:01PM   The Stock Market Had a Better Day Than it Seemed. Thank Fiscal Stimulus.\n",
      "04:31PM   Virgin Galactic Rival Blue Origin Gets 'Very, Very Close' To Crewed Flight\n",
      "04:01PM   These Big Stocks Go Both Sides While Others Pick A Side Amid Political Crisis\n",
      "03:43PM   Were cash flow neutral: IMAX CEO on recovery amid pandemic\n",
      "03:40PM   Amazon Makes It Too Hard to Cancel Prime, Groups Tell FTC\n",
      "03:05PM   Billionaire Stephen Mandels Lone Pine Is Embracing The Tech Revolution\n",
      "02:23PM   Parler urges U.S. judge to order Amazon to restore its platform\n",
      "02:18PM   Parler Judge Balks at Quick Action to Restore Site on Amazon\n",
      "12:38PM   Capitol insurrection was 'a wake-up call': Cisco CEO\n",
      "12:28PM   The Zacks Analyst Blog Highlights: Amazon, Thermo Fisher, Eli Lilly, Google and CVS Health\n",
      "12:10PM   The Zacks Analyst Blog Highlights: AT&T, Disney, Apple, Netflix and Amazon\n",
      "12:08PM   ViacomCBS CFO: streaming is a huge priority for us\n",
      "11:54AM   Amazon Taps TV Veteran Jamia Bigalow to Lead Partner Marketing for Devices and Services\n",
      "11:02AM   Netflix earnings outlook: 'we've never seen numbers this high: Rosenblatt's McTernan\n",
      "08:29AM   PREMIUM: A roadmap to trading profitably and consistently in 2021 with JC Parets\n",
      "06:22AM   Can't figure out how to end your Amazon Prime sub? These complaints could help...\n",
      "06:00AM   Influencers with Andy Serwer: Haim Saban\n",
      "05:41AM   Amazon Faces Investigations In Connecticut Over Anti-Competitive Practices In E-books Business\n",
      "04:05AM   Delivery Hero Turkey Workers Seek Precedent-Setting Unionization\n",
      "Jan-13-21 10:59PM   An Overview of Businesses Owned by Amazon\n",
      "08:17PM   Twitters Dorsey Says Banning Trump Was Right Decision\n",
      "05:45PM   Amazon (AMZN) Outpaces Stock Market Gains: What You Should Know\n",
      "05:39PM   Amazons Other Reason for Booting Parler: Threats to Staff\n",
      "05:34PM   Parler May Never Get Back Online, Admits CEO of Pro-Trump Social App\n",
      "04:45PM   Intel Goes Back to Roots With Gelsinger to Regain Chip Lead\n",
      "04:41PM   Amazon May Bid For Italian Soccer Rights, Moving Deeper Into Live Sports\n",
      "04:26PM   Top Analyst Reports for Amazon, Thermo Fisher & Eli Lilly\n",
      "03:49PM   Is It Time to Buy Big Tech?\n",
      "02:04PM   Amazon Fires Back at Parler Lawsuit, Noting Violent Content\n",
      "01:58PM   Why Shares of Jumia Technologies Shot Higher Today\n",
      "01:51PM   Amazon Plans to Bid for Italys Top Soccer TV Rights\n",
      "01:46PM   All the Problems Pat Gelsinger Faces as Intels Next CEO\n",
      "01:13PM   Netflix Still Dominates Streaming, but Disney Steals Market Share\n",
      "01:02PM   Survey: 60% of Invested Readers Say State of the Nation is Top Concern\n",
      "01:00PM   3 Stock Picks From the Most Downloaded Apps of 2020\n",
      "12:45PM   Where Will Datadog Be in 1 Year?\n",
      "12:13PM   Intel CEO Bob Swan Is Replaced by VMwares Pat Gelsinger\n",
      "10:55AM   Corporate backlash on Trump is 'good business': expert\n",
      "10:02AM   Amazon Cancels Prime Pantry: Good News for Grocery Stores?\n",
      "09:42AM   Here's Why Prologis Will Keep Winning in 2021 -- and Beyond\n",
      "09:35AM   Wearable Spending to Hike Further: 4 Tech Stocks to Consider\n",
      "09:00AM   Yet Another Growing Threat Amazon Needs to Worry About\n",
      "08:47AM   Amazon takes on Netflix in India with cheaper mobile-only Prime Video plan\n",
      "08:45AM   Is Jumia Stock Overvalued?\n",
      "08:21AM   Disney Is On Track to Dethrone Netflix in Streaming\n",
      "08:00AM   8 Top Stocks Will Soar Again In 2021, Analysts Say\n",
      "05:00AM   Media should stop giving Trump a platform: Billionaire media mogul\n",
      "03:44AM   Amazon launches mobile-only, more affordable Prime Video plan in India\n",
      "03:31AM   IPhone Assembler Foxconn Sets Up Auto Arm as Apple Car Looms\n",
      "03:15AM   Amazon India launches online academy to coach future engineers\n",
      "02:47AM   Amazon makes education push in India with JEE preparation app\n",
      "01:30AM   Amazon Starts $1.20 Mobile Video Plan to Target Indias Millions\n",
      "Jan-12-21 07:06PM   Dividend Stocks to Watch in 2021\n",
      "05:45PM   Amazon (AMZN) Outpaces Stock Market Gains: What You Should Know\n",
      "05:21PM   Albertsons CEO says digital and work-from-home will fuel grocery sales even after pandemic\n",
      "04:57PM   Amazon is 'judge and jury' over speech after Parler ban: CloudSigma CEO\n",
      "03:37PM   Walmart testing grocery delivery without users being home\n",
      "03:28PM   Trump social media bans raise debate about tech regulation\n",
      "02:36PM   Amazon Is Removing QAnon-Related Goods. Theyre Still Easy to Find.\n",
      "01:58PM   Trump TV Just Might Work, Analysts Say. The Demand Is There.\n",
      "01:44PM   Online Holiday 2020 Shopping Reaches New Record\n",
      "01:44PM   For better or worse, web infrastructure is not a public good\n",
      "01:41PM   I doubt it has legs: Why Parler has a weak antitrust claim against Amazon\n",
      "01:08PM   Regulatory scrutiny should apply to all content providers, including telecom companies: former Facebook executive\n",
      "12:45PM   3 Big Announcements That Will Make Roku Investors Richer\n",
      "12:22PM   Capitol Hill siege 'may be the beginning of the end of Big Tech': Scott Galloway\n"
     ]
    }
   ],
   "source": [
    "#Only for amazon\n",
    "amazon_data=news_tables['AMZN']\n",
    "amazon_rows=amazon_data.findAll('tr')\n",
    "\n",
    "for index, row in enumerate(amazon_rows):\n",
    "    title=row.a.text\n",
    "    timestamp=row.td.text\n",
    "    print(timestamp + \" \" + title)"
   ]
  },
  {
   "cell_type": "code",
   "execution_count": 65,
   "metadata": {},
   "outputs": [
    {
     "name": "stderr",
     "output_type": "stream",
     "text": [
      "IOPub data rate exceeded.\n",
      "The notebook server will temporarily stop sending output\n",
      "to the client in order to avoid crashing it.\n",
      "To change this limit, set the config variable\n",
      "`--NotebookApp.iopub_data_rate_limit`.\n",
      "\n",
      "Current values:\n",
      "NotebookApp.iopub_data_rate_limit=1000000.0 (bytes/sec)\n",
      "NotebookApp.rate_limit_window=3.0 (secs)\n",
      "\n"
     ]
    }
   ],
   "source": [
    "parsed_data=[]\n",
    "\n",
    "for ticker,news_table in news_tables.items():\n",
    "    for row in news_table.findAll('tr'):\n",
    "        title = row.a.text\n",
    "        date_data=row.td.text.split(\" \")\n",
    "        \n",
    "        if len(date_data)==1:\n",
    "            time=date_data[0]\n",
    "        else:\n",
    "            date=date_data[0]\n",
    "            time=date_data[1]\n",
    "            \n",
    "        parsed_data.append([ticker,date,time,title])\n",
    "        print(parsed_data)  \n",
    "    "
   ]
  },
  {
   "cell_type": "code",
   "execution_count": 66,
   "metadata": {},
   "outputs": [
    {
     "name": "stdout",
     "output_type": "stream",
     "text": [
      "    ticker       date       time  \\\n",
      "0     AMZN  Jan-18-21  12:10PM     \n",
      "1     AMZN  Jan-18-21  11:50AM     \n",
      "2     AMZN  Jan-18-21  10:01AM     \n",
      "3     AMZN  Jan-18-21  09:13AM     \n",
      "4     AMZN  Jan-18-21  07:00AM     \n",
      "..     ...        ...        ...   \n",
      "295     FB  Jan-12-21  08:45AM     \n",
      "296     FB  Jan-12-21  08:07AM     \n",
      "297     FB  Jan-12-21  08:00AM     \n",
      "298     FB  Jan-12-21  06:02AM     \n",
      "299     FB  Jan-12-21  04:25AM     \n",
      "\n",
      "                                                 title  \n",
      "0    Why Amazon (AMZN) is Poised to Beat Earnings E...  \n",
      "1    Parler: How the social media site banned by Ap...  \n",
      "2           10 best tablets for Zoom, gaming and films  \n",
      "3    Amazon-Backed Deliveroo Is Now Worth $7 Billio...  \n",
      "4    The pros and cons of putting your small busine...  \n",
      "..                                                 ...  \n",
      "295             What We Learned About Facebook in 2020  \n",
      "296  2021 Is Moment of Reckoning for Social Media G...  \n",
      "297  Here's How Much You're Worth To Social Media G...  \n",
      "298  Elon Musk Sends Signal Downloads Soaring: What...  \n",
      "299  WhatsApp scrambles to explain privacy policies...  \n",
      "\n",
      "[300 rows x 4 columns]\n"
     ]
    }
   ],
   "source": [
    "df= pd.DataFrame(parsed_data,columns=['ticker','date','time','title'])\n",
    "print(df)"
   ]
  },
  {
   "cell_type": "code",
   "execution_count": 67,
   "metadata": {},
   "outputs": [
    {
     "name": "stderr",
     "output_type": "stream",
     "text": [
      "[nltk_data] Downloading package vader_lexicon to\n",
      "[nltk_data]     C:\\Users\\priya\\AppData\\Roaming\\nltk_data...\n",
      "[nltk_data]   Package vader_lexicon is already up-to-date!\n"
     ]
    }
   ],
   "source": [
    "import nltk\n",
    "nltk.download('vader_lexicon')\n",
    "\n",
    "vader=SentimentIntensityAnalyzer()\n",
    "f = lambda title: vader.polarity_scores(title)['compound']\n",
    "df['compound']=df['title'].apply(f)\n",
    "#print(df.head())\n",
    "df['date']=pd.to_datetime(df.date).dt.date"
   ]
  },
  {
   "cell_type": "code",
   "execution_count": 73,
   "metadata": {},
   "outputs": [
    {
     "data": {
      "text/plain": [
       "<Figure size 1008x864 with 0 Axes>"
      ]
     },
     "metadata": {},
     "output_type": "display_data"
    },
    {
     "data": {
      "image/png": "[encoded data removed]",
      "text/plain": [
       "<Figure size 432x288 with 1 Axes>"
      ]
     },
     "metadata": {
      "needs_background": "light"
     },
     "output_type": "display_data"
    }
   ],
   "source": [
    "plt.figure(figsize=(14,12))\n",
    "mean_df=df.groupby(['ticker','date']).mean()\n",
    "#print(mean_df)\n",
    "mean_df=mean_df.unstack()\n",
    "mean_df=mean_df.xs('compound',axis=\"columns\").transpose()\n",
    "mean_df.plot(kind='bar')\n",
    "plt.show()"
   ]
  }
 ],
 "metadata": {
  "kernelspec": {
   "display_name": "Python 3",
   "language": "python",
   "name": "python3"
  },
  "language_info": {
   "codemirror_mode": {
    "name": "ipython",
    "version": 3
   },
   "file_extension": ".py",
   "mimetype": "text/x-python",
   "name": "python",
   "nbconvert_exporter": "python",
   "pygments_lexer": "ipython3",
   "version": "3.8.5"
  }
 },
 "nbformat": 4,
 "nbformat_minor": 4
}
